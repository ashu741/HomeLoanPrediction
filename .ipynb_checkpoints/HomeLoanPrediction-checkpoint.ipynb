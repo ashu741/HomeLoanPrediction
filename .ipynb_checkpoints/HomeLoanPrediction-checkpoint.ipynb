{
 "cells": [
  {
   "cell_type": "markdown",
   "id": "803511f8",
   "metadata": {},
   "source": [
    "# Importing Libraries"
   ]
  },
  {
   "cell_type": "code",
   "execution_count": 1,
   "id": "4fcae0c7",
   "metadata": {},
   "outputs": [],
   "source": [
    "import pandas as pd\n",
    "import matplotlib.pyplot as plt\n",
    "import seaborn as sns\n",
    "import numpy as np\n",
    "from sklearn.preprocessing import LabelEncoder\n",
    "le=LabelEncoder()\n",
    "from sklearn.model_selection import train_test_split\n",
    "from sklearn.ensemble import RandomForestClassifier\n",
    "from sklearn.tree import DecisionTreeClassifier\n",
    "from sklearn import metrics\n",
    "from imblearn.over_sampling import SMOTE\n",
    "from sklearn.linear_model import LogisticRegression\n",
    "from sklearn.ensemble import AdaBoostClassifier\n",
    "from sklearn.preprocessing import StandardScaler\n",
    "from sklearn.svm import SVC\n",
    "from sklearn.neighbors import KNeighborsClassifier\n",
    "from sklearn.decomposition import PCA"
   ]
  },
  {
   "cell_type": "markdown",
   "id": "055dd66f",
   "metadata": {},
   "source": [
    "# Importing Dataset"
   ]
  },
  {
   "cell_type": "code",
   "execution_count": 2,
   "id": "6b717721",
   "metadata": {},
   "outputs": [],
   "source": [
    "train_data=pd.read_csv(r\"train.csv\")\n",
    "test_data=pd.read_csv(r\"test.csv\")"
   ]
  },
  {
   "cell_type": "markdown",
   "id": "7015e4d8",
   "metadata": {},
   "source": [
    "# Preprocessing Training Data"
   ]
  },
  {
   "cell_type": "code",
   "execution_count": 3,
   "id": "fddfd68d",
   "metadata": {},
   "outputs": [
    {
     "data": {
      "text/plain": [
       "<bound method NDFrame.describe of       Loan_ID  Gender Married Dependents     Education Self_Employed  \\\n",
       "0    LP001002    Male      No          0      Graduate            No   \n",
       "1    LP001003    Male     Yes          1      Graduate            No   \n",
       "2    LP001005    Male     Yes          0      Graduate           Yes   \n",
       "3    LP001006    Male     Yes          0  Not Graduate            No   \n",
       "4    LP001008    Male      No          0      Graduate            No   \n",
       "..        ...     ...     ...        ...           ...           ...   \n",
       "609  LP002978  Female      No          0      Graduate            No   \n",
       "610  LP002979    Male     Yes         3+      Graduate            No   \n",
       "611  LP002983    Male     Yes          1      Graduate            No   \n",
       "612  LP002984    Male     Yes          2      Graduate            No   \n",
       "613  LP002990  Female      No          0      Graduate           Yes   \n",
       "\n",
       "     ApplicantIncome  CoapplicantIncome  LoanAmount  Loan_Amount_Term  \\\n",
       "0               5849                0.0         NaN             360.0   \n",
       "1               4583             1508.0       128.0             360.0   \n",
       "2               3000                0.0        66.0             360.0   \n",
       "3               2583             2358.0       120.0             360.0   \n",
       "4               6000                0.0       141.0             360.0   \n",
       "..               ...                ...         ...               ...   \n",
       "609             2900                0.0        71.0             360.0   \n",
       "610             4106                0.0        40.0             180.0   \n",
       "611             8072              240.0       253.0             360.0   \n",
       "612             7583                0.0       187.0             360.0   \n",
       "613             4583                0.0       133.0             360.0   \n",
       "\n",
       "     Credit_History Property_Area Loan_Status  \n",
       "0               1.0         Urban           Y  \n",
       "1               1.0         Rural           N  \n",
       "2               1.0         Urban           Y  \n",
       "3               1.0         Urban           Y  \n",
       "4               1.0         Urban           Y  \n",
       "..              ...           ...         ...  \n",
       "609             1.0         Rural           Y  \n",
       "610             1.0         Rural           Y  \n",
       "611             1.0         Urban           Y  \n",
       "612             1.0         Urban           Y  \n",
       "613             0.0     Semiurban           N  \n",
       "\n",
       "[614 rows x 13 columns]>"
      ]
     },
     "execution_count": 3,
     "metadata": {},
     "output_type": "execute_result"
    }
   ],
   "source": [
    "train_data.describe"
   ]
  },
  {
   "cell_type": "code",
   "execution_count": 4,
   "id": "5e799e6d",
   "metadata": {},
   "outputs": [
    {
     "data": {
      "text/plain": [
       "Loan_ID               object\n",
       "Gender                object\n",
       "Married               object\n",
       "Dependents            object\n",
       "Education             object\n",
       "Self_Employed         object\n",
       "ApplicantIncome        int64\n",
       "CoapplicantIncome    float64\n",
       "LoanAmount           float64\n",
       "Loan_Amount_Term     float64\n",
       "Credit_History       float64\n",
       "Property_Area         object\n",
       "Loan_Status           object\n",
       "dtype: object"
      ]
     },
     "execution_count": 4,
     "metadata": {},
     "output_type": "execute_result"
    }
   ],
   "source": [
    "train_data.dtypes"
   ]
  },
  {
   "cell_type": "code",
   "execution_count": 5,
   "id": "79b69c6c",
   "metadata": {},
   "outputs": [
    {
     "data": {
      "text/html": [
       "<div>\n",
       "<style scoped>\n",
       "    .dataframe tbody tr th:only-of-type {\n",
       "        vertical-align: middle;\n",
       "    }\n",
       "\n",
       "    .dataframe tbody tr th {\n",
       "        vertical-align: top;\n",
       "    }\n",
       "\n",
       "    .dataframe thead th {\n",
       "        text-align: right;\n",
       "    }\n",
       "</style>\n",
       "<table border=\"1\" class=\"dataframe\">\n",
       "  <thead>\n",
       "    <tr style=\"text-align: right;\">\n",
       "      <th></th>\n",
       "      <th>Loan_ID</th>\n",
       "      <th>Gender</th>\n",
       "      <th>Married</th>\n",
       "      <th>Dependents</th>\n",
       "      <th>Education</th>\n",
       "      <th>Self_Employed</th>\n",
       "      <th>ApplicantIncome</th>\n",
       "      <th>CoapplicantIncome</th>\n",
       "      <th>LoanAmount</th>\n",
       "      <th>Loan_Amount_Term</th>\n",
       "      <th>Credit_History</th>\n",
       "      <th>Property_Area</th>\n",
       "      <th>Loan_Status</th>\n",
       "    </tr>\n",
       "  </thead>\n",
       "  <tbody>\n",
       "    <tr>\n",
       "      <th>0</th>\n",
       "      <td>LP001002</td>\n",
       "      <td>Male</td>\n",
       "      <td>No</td>\n",
       "      <td>0</td>\n",
       "      <td>Graduate</td>\n",
       "      <td>No</td>\n",
       "      <td>5849</td>\n",
       "      <td>0.0</td>\n",
       "      <td>NaN</td>\n",
       "      <td>360.0</td>\n",
       "      <td>1.0</td>\n",
       "      <td>Urban</td>\n",
       "      <td>Y</td>\n",
       "    </tr>\n",
       "    <tr>\n",
       "      <th>1</th>\n",
       "      <td>LP001003</td>\n",
       "      <td>Male</td>\n",
       "      <td>Yes</td>\n",
       "      <td>1</td>\n",
       "      <td>Graduate</td>\n",
       "      <td>No</td>\n",
       "      <td>4583</td>\n",
       "      <td>1508.0</td>\n",
       "      <td>128.0</td>\n",
       "      <td>360.0</td>\n",
       "      <td>1.0</td>\n",
       "      <td>Rural</td>\n",
       "      <td>N</td>\n",
       "    </tr>\n",
       "    <tr>\n",
       "      <th>2</th>\n",
       "      <td>LP001005</td>\n",
       "      <td>Male</td>\n",
       "      <td>Yes</td>\n",
       "      <td>0</td>\n",
       "      <td>Graduate</td>\n",
       "      <td>Yes</td>\n",
       "      <td>3000</td>\n",
       "      <td>0.0</td>\n",
       "      <td>66.0</td>\n",
       "      <td>360.0</td>\n",
       "      <td>1.0</td>\n",
       "      <td>Urban</td>\n",
       "      <td>Y</td>\n",
       "    </tr>\n",
       "    <tr>\n",
       "      <th>3</th>\n",
       "      <td>LP001006</td>\n",
       "      <td>Male</td>\n",
       "      <td>Yes</td>\n",
       "      <td>0</td>\n",
       "      <td>Not Graduate</td>\n",
       "      <td>No</td>\n",
       "      <td>2583</td>\n",
       "      <td>2358.0</td>\n",
       "      <td>120.0</td>\n",
       "      <td>360.0</td>\n",
       "      <td>1.0</td>\n",
       "      <td>Urban</td>\n",
       "      <td>Y</td>\n",
       "    </tr>\n",
       "    <tr>\n",
       "      <th>4</th>\n",
       "      <td>LP001008</td>\n",
       "      <td>Male</td>\n",
       "      <td>No</td>\n",
       "      <td>0</td>\n",
       "      <td>Graduate</td>\n",
       "      <td>No</td>\n",
       "      <td>6000</td>\n",
       "      <td>0.0</td>\n",
       "      <td>141.0</td>\n",
       "      <td>360.0</td>\n",
       "      <td>1.0</td>\n",
       "      <td>Urban</td>\n",
       "      <td>Y</td>\n",
       "    </tr>\n",
       "  </tbody>\n",
       "</table>\n",
       "</div>"
      ],
      "text/plain": [
       "    Loan_ID Gender Married Dependents     Education Self_Employed  \\\n",
       "0  LP001002   Male      No          0      Graduate            No   \n",
       "1  LP001003   Male     Yes          1      Graduate            No   \n",
       "2  LP001005   Male     Yes          0      Graduate           Yes   \n",
       "3  LP001006   Male     Yes          0  Not Graduate            No   \n",
       "4  LP001008   Male      No          0      Graduate            No   \n",
       "\n",
       "   ApplicantIncome  CoapplicantIncome  LoanAmount  Loan_Amount_Term  \\\n",
       "0             5849                0.0         NaN             360.0   \n",
       "1             4583             1508.0       128.0             360.0   \n",
       "2             3000                0.0        66.0             360.0   \n",
       "3             2583             2358.0       120.0             360.0   \n",
       "4             6000                0.0       141.0             360.0   \n",
       "\n",
       "   Credit_History Property_Area Loan_Status  \n",
       "0             1.0         Urban           Y  \n",
       "1             1.0         Rural           N  \n",
       "2             1.0         Urban           Y  \n",
       "3             1.0         Urban           Y  \n",
       "4             1.0         Urban           Y  "
      ]
     },
     "execution_count": 5,
     "metadata": {},
     "output_type": "execute_result"
    }
   ],
   "source": [
    "train_data.head()"
   ]
  },
  {
   "cell_type": "code",
   "execution_count": 6,
   "id": "22c24889",
   "metadata": {},
   "outputs": [
    {
     "name": "stdout",
     "output_type": "stream",
     "text": [
      "(614, 13)\n",
      "(367, 12)\n"
     ]
    }
   ],
   "source": [
    "print(train_data.shape)\n",
    "print(test_data.shape)"
   ]
  },
  {
   "cell_type": "code",
   "execution_count": 7,
   "id": "656385e9",
   "metadata": {},
   "outputs": [
    {
     "data": {
      "text/plain": [
       "Loan_ID               0\n",
       "Gender               13\n",
       "Married               3\n",
       "Dependents           15\n",
       "Education             0\n",
       "Self_Employed        32\n",
       "ApplicantIncome       0\n",
       "CoapplicantIncome     0\n",
       "LoanAmount           22\n",
       "Loan_Amount_Term     14\n",
       "Credit_History       50\n",
       "Property_Area         0\n",
       "Loan_Status           0\n",
       "dtype: int64"
      ]
     },
     "execution_count": 7,
     "metadata": {},
     "output_type": "execute_result"
    }
   ],
   "source": [
    "train_data.isnull().sum()"
   ]
  },
  {
   "cell_type": "code",
   "execution_count": 8,
   "id": "40555b25",
   "metadata": {},
   "outputs": [
    {
     "data": {
      "text/plain": [
       "Loan_ID              0.000000\n",
       "Gender               2.117264\n",
       "Married              0.488599\n",
       "Dependents           2.442997\n",
       "Education            0.000000\n",
       "Self_Employed        5.211726\n",
       "ApplicantIncome      0.000000\n",
       "CoapplicantIncome    0.000000\n",
       "LoanAmount           3.583062\n",
       "Loan_Amount_Term     2.280130\n",
       "Credit_History       8.143322\n",
       "Property_Area        0.000000\n",
       "Loan_Status          0.000000\n",
       "dtype: float64"
      ]
     },
     "execution_count": 8,
     "metadata": {},
     "output_type": "execute_result"
    }
   ],
   "source": [
    "null_percent = (train_data.isnull().sum()/train_data.shape[0])*100\n",
    "null_percent"
   ]
  },
  {
   "cell_type": "markdown",
   "id": "b4c829a3",
   "metadata": {},
   "source": [
    "### Encoding Categorical Data"
   ]
  },
  {
   "cell_type": "code",
   "execution_count": 9,
   "id": "c2d205b0",
   "metadata": {},
   "outputs": [],
   "source": [
    "train_data[\"Gender\"]=le.fit_transform(train_data[\"Gender\"])\n",
    "train_data[\"Self_Employed\"]=le.fit_transform(train_data[\"Self_Employed\"])\n",
    "train_data[\"Dependents\"]=le.fit_transform(train_data[\"Dependents\"])\n",
    "train_data[\"Married\"]=le.fit_transform(train_data[\"Married\"])\n",
    "train_data[\"Property_Area\"]=le.fit_transform(train_data[\"Property_Area\"])\n",
    "train_data[\"Education\"]=le.fit_transform(train_data[\"Education\"])\n",
    "train_data[\"Loan_Status\"]=le.fit_transform(train_data[\"Loan_Status\"])"
   ]
  },
  {
   "cell_type": "code",
   "execution_count": 10,
   "id": "48525cc4",
   "metadata": {},
   "outputs": [
    {
     "data": {
      "text/plain": [
       "Loan_ID               object\n",
       "Gender                 int32\n",
       "Married                int32\n",
       "Dependents             int32\n",
       "Education              int32\n",
       "Self_Employed          int32\n",
       "ApplicantIncome        int64\n",
       "CoapplicantIncome    float64\n",
       "LoanAmount           float64\n",
       "Loan_Amount_Term     float64\n",
       "Credit_History       float64\n",
       "Property_Area          int32\n",
       "Loan_Status            int32\n",
       "dtype: object"
      ]
     },
     "execution_count": 10,
     "metadata": {},
     "output_type": "execute_result"
    }
   ],
   "source": [
    "train_data.dtypes"
   ]
  },
  {
   "cell_type": "code",
   "execution_count": 11,
   "id": "cc0dffc7",
   "metadata": {},
   "outputs": [
    {
     "data": {
      "text/html": [
       "<div>\n",
       "<style scoped>\n",
       "    .dataframe tbody tr th:only-of-type {\n",
       "        vertical-align: middle;\n",
       "    }\n",
       "\n",
       "    .dataframe tbody tr th {\n",
       "        vertical-align: top;\n",
       "    }\n",
       "\n",
       "    .dataframe thead th {\n",
       "        text-align: right;\n",
       "    }\n",
       "</style>\n",
       "<table border=\"1\" class=\"dataframe\">\n",
       "  <thead>\n",
       "    <tr style=\"text-align: right;\">\n",
       "      <th></th>\n",
       "      <th>Loan_ID</th>\n",
       "      <th>Gender</th>\n",
       "      <th>Married</th>\n",
       "      <th>Dependents</th>\n",
       "      <th>Education</th>\n",
       "      <th>Self_Employed</th>\n",
       "      <th>ApplicantIncome</th>\n",
       "      <th>CoapplicantIncome</th>\n",
       "      <th>LoanAmount</th>\n",
       "      <th>Loan_Amount_Term</th>\n",
       "      <th>Credit_History</th>\n",
       "      <th>Property_Area</th>\n",
       "      <th>Loan_Status</th>\n",
       "    </tr>\n",
       "  </thead>\n",
       "  <tbody>\n",
       "    <tr>\n",
       "      <th>0</th>\n",
       "      <td>LP001002</td>\n",
       "      <td>1</td>\n",
       "      <td>0</td>\n",
       "      <td>0</td>\n",
       "      <td>0</td>\n",
       "      <td>0</td>\n",
       "      <td>5849</td>\n",
       "      <td>0.0</td>\n",
       "      <td>NaN</td>\n",
       "      <td>360.0</td>\n",
       "      <td>1.0</td>\n",
       "      <td>2</td>\n",
       "      <td>1</td>\n",
       "    </tr>\n",
       "    <tr>\n",
       "      <th>1</th>\n",
       "      <td>LP001003</td>\n",
       "      <td>1</td>\n",
       "      <td>1</td>\n",
       "      <td>1</td>\n",
       "      <td>0</td>\n",
       "      <td>0</td>\n",
       "      <td>4583</td>\n",
       "      <td>1508.0</td>\n",
       "      <td>128.0</td>\n",
       "      <td>360.0</td>\n",
       "      <td>1.0</td>\n",
       "      <td>0</td>\n",
       "      <td>0</td>\n",
       "    </tr>\n",
       "    <tr>\n",
       "      <th>2</th>\n",
       "      <td>LP001005</td>\n",
       "      <td>1</td>\n",
       "      <td>1</td>\n",
       "      <td>0</td>\n",
       "      <td>0</td>\n",
       "      <td>1</td>\n",
       "      <td>3000</td>\n",
       "      <td>0.0</td>\n",
       "      <td>66.0</td>\n",
       "      <td>360.0</td>\n",
       "      <td>1.0</td>\n",
       "      <td>2</td>\n",
       "      <td>1</td>\n",
       "    </tr>\n",
       "    <tr>\n",
       "      <th>3</th>\n",
       "      <td>LP001006</td>\n",
       "      <td>1</td>\n",
       "      <td>1</td>\n",
       "      <td>0</td>\n",
       "      <td>1</td>\n",
       "      <td>0</td>\n",
       "      <td>2583</td>\n",
       "      <td>2358.0</td>\n",
       "      <td>120.0</td>\n",
       "      <td>360.0</td>\n",
       "      <td>1.0</td>\n",
       "      <td>2</td>\n",
       "      <td>1</td>\n",
       "    </tr>\n",
       "    <tr>\n",
       "      <th>4</th>\n",
       "      <td>LP001008</td>\n",
       "      <td>1</td>\n",
       "      <td>0</td>\n",
       "      <td>0</td>\n",
       "      <td>0</td>\n",
       "      <td>0</td>\n",
       "      <td>6000</td>\n",
       "      <td>0.0</td>\n",
       "      <td>141.0</td>\n",
       "      <td>360.0</td>\n",
       "      <td>1.0</td>\n",
       "      <td>2</td>\n",
       "      <td>1</td>\n",
       "    </tr>\n",
       "  </tbody>\n",
       "</table>\n",
       "</div>"
      ],
      "text/plain": [
       "    Loan_ID  Gender  Married  Dependents  Education  Self_Employed  \\\n",
       "0  LP001002       1        0           0          0              0   \n",
       "1  LP001003       1        1           1          0              0   \n",
       "2  LP001005       1        1           0          0              1   \n",
       "3  LP001006       1        1           0          1              0   \n",
       "4  LP001008       1        0           0          0              0   \n",
       "\n",
       "   ApplicantIncome  CoapplicantIncome  LoanAmount  Loan_Amount_Term  \\\n",
       "0             5849                0.0         NaN             360.0   \n",
       "1             4583             1508.0       128.0             360.0   \n",
       "2             3000                0.0        66.0             360.0   \n",
       "3             2583             2358.0       120.0             360.0   \n",
       "4             6000                0.0       141.0             360.0   \n",
       "\n",
       "   Credit_History  Property_Area  Loan_Status  \n",
       "0             1.0              2            1  \n",
       "1             1.0              0            0  \n",
       "2             1.0              2            1  \n",
       "3             1.0              2            1  \n",
       "4             1.0              2            1  "
      ]
     },
     "execution_count": 11,
     "metadata": {},
     "output_type": "execute_result"
    }
   ],
   "source": [
    "train_data.head()"
   ]
  },
  {
   "cell_type": "markdown",
   "id": "411ed735",
   "metadata": {},
   "source": [
    "### Filling NULL Values"
   ]
  },
  {
   "cell_type": "code",
   "execution_count": 12,
   "id": "e2605bbf",
   "metadata": {},
   "outputs": [],
   "source": [
    "train_data[\"Gender\"].fillna(train_data[\"Gender\"].mode()[0])\n",
    "train_data[\"Married\"].fillna(train_data[\"Married\"].mode()[0])\n",
    "train_data['Dependents'].fillna(train_data[\"Dependents\"].mode()[0])\n",
    "train_data[\"Self_Employed\"].fillna(train_data[\"Self_Employed\"].mode()[0])\n",
    "train_data[\"Credit_History\"]=train_data[\"Credit_History\"].fillna(train_data[\"Credit_History\"].mode()[0])"
   ]
  },
  {
   "cell_type": "code",
   "execution_count": 13,
   "id": "e8e62ddb",
   "metadata": {},
   "outputs": [],
   "source": [
    "train_data[\"Loan_Amount_Term\"]=train_data[\"Loan_Amount_Term\"].fillna(train_data[\"Loan_Amount_Term\"].mode()[0])"
   ]
  },
  {
   "cell_type": "code",
   "execution_count": 14,
   "id": "8fb74c14",
   "metadata": {},
   "outputs": [],
   "source": [
    "train_data[\"LoanAmount\"]=train_data[\"LoanAmount\"].fillna(train_data[\"LoanAmount\"].median())"
   ]
  },
  {
   "cell_type": "code",
   "execution_count": 15,
   "id": "a9367b16",
   "metadata": {},
   "outputs": [],
   "source": [
    "train_data[\"Total_Income\"]=train_data[\"ApplicantIncome\"]+train_data[\"CoapplicantIncome\"]"
   ]
  },
  {
   "cell_type": "code",
   "execution_count": 16,
   "id": "54ca9320",
   "metadata": {},
   "outputs": [
    {
     "data": {
      "text/html": [
       "<div>\n",
       "<style scoped>\n",
       "    .dataframe tbody tr th:only-of-type {\n",
       "        vertical-align: middle;\n",
       "    }\n",
       "\n",
       "    .dataframe tbody tr th {\n",
       "        vertical-align: top;\n",
       "    }\n",
       "\n",
       "    .dataframe thead th {\n",
       "        text-align: right;\n",
       "    }\n",
       "</style>\n",
       "<table border=\"1\" class=\"dataframe\">\n",
       "  <thead>\n",
       "    <tr style=\"text-align: right;\">\n",
       "      <th></th>\n",
       "      <th>Loan_ID</th>\n",
       "      <th>Gender</th>\n",
       "      <th>Married</th>\n",
       "      <th>Dependents</th>\n",
       "      <th>Education</th>\n",
       "      <th>Self_Employed</th>\n",
       "      <th>ApplicantIncome</th>\n",
       "      <th>CoapplicantIncome</th>\n",
       "      <th>LoanAmount</th>\n",
       "      <th>Loan_Amount_Term</th>\n",
       "      <th>Credit_History</th>\n",
       "      <th>Property_Area</th>\n",
       "      <th>Loan_Status</th>\n",
       "      <th>Total_Income</th>\n",
       "    </tr>\n",
       "  </thead>\n",
       "  <tbody>\n",
       "    <tr>\n",
       "      <th>0</th>\n",
       "      <td>LP001002</td>\n",
       "      <td>1</td>\n",
       "      <td>0</td>\n",
       "      <td>0</td>\n",
       "      <td>0</td>\n",
       "      <td>0</td>\n",
       "      <td>5849</td>\n",
       "      <td>0.0</td>\n",
       "      <td>128.0</td>\n",
       "      <td>360.0</td>\n",
       "      <td>1.0</td>\n",
       "      <td>2</td>\n",
       "      <td>1</td>\n",
       "      <td>5849.0</td>\n",
       "    </tr>\n",
       "    <tr>\n",
       "      <th>1</th>\n",
       "      <td>LP001003</td>\n",
       "      <td>1</td>\n",
       "      <td>1</td>\n",
       "      <td>1</td>\n",
       "      <td>0</td>\n",
       "      <td>0</td>\n",
       "      <td>4583</td>\n",
       "      <td>1508.0</td>\n",
       "      <td>128.0</td>\n",
       "      <td>360.0</td>\n",
       "      <td>1.0</td>\n",
       "      <td>0</td>\n",
       "      <td>0</td>\n",
       "      <td>6091.0</td>\n",
       "    </tr>\n",
       "    <tr>\n",
       "      <th>2</th>\n",
       "      <td>LP001005</td>\n",
       "      <td>1</td>\n",
       "      <td>1</td>\n",
       "      <td>0</td>\n",
       "      <td>0</td>\n",
       "      <td>1</td>\n",
       "      <td>3000</td>\n",
       "      <td>0.0</td>\n",
       "      <td>66.0</td>\n",
       "      <td>360.0</td>\n",
       "      <td>1.0</td>\n",
       "      <td>2</td>\n",
       "      <td>1</td>\n",
       "      <td>3000.0</td>\n",
       "    </tr>\n",
       "    <tr>\n",
       "      <th>3</th>\n",
       "      <td>LP001006</td>\n",
       "      <td>1</td>\n",
       "      <td>1</td>\n",
       "      <td>0</td>\n",
       "      <td>1</td>\n",
       "      <td>0</td>\n",
       "      <td>2583</td>\n",
       "      <td>2358.0</td>\n",
       "      <td>120.0</td>\n",
       "      <td>360.0</td>\n",
       "      <td>1.0</td>\n",
       "      <td>2</td>\n",
       "      <td>1</td>\n",
       "      <td>4941.0</td>\n",
       "    </tr>\n",
       "    <tr>\n",
       "      <th>4</th>\n",
       "      <td>LP001008</td>\n",
       "      <td>1</td>\n",
       "      <td>0</td>\n",
       "      <td>0</td>\n",
       "      <td>0</td>\n",
       "      <td>0</td>\n",
       "      <td>6000</td>\n",
       "      <td>0.0</td>\n",
       "      <td>141.0</td>\n",
       "      <td>360.0</td>\n",
       "      <td>1.0</td>\n",
       "      <td>2</td>\n",
       "      <td>1</td>\n",
       "      <td>6000.0</td>\n",
       "    </tr>\n",
       "  </tbody>\n",
       "</table>\n",
       "</div>"
      ],
      "text/plain": [
       "    Loan_ID  Gender  Married  Dependents  Education  Self_Employed  \\\n",
       "0  LP001002       1        0           0          0              0   \n",
       "1  LP001003       1        1           1          0              0   \n",
       "2  LP001005       1        1           0          0              1   \n",
       "3  LP001006       1        1           0          1              0   \n",
       "4  LP001008       1        0           0          0              0   \n",
       "\n",
       "   ApplicantIncome  CoapplicantIncome  LoanAmount  Loan_Amount_Term  \\\n",
       "0             5849                0.0       128.0             360.0   \n",
       "1             4583             1508.0       128.0             360.0   \n",
       "2             3000                0.0        66.0             360.0   \n",
       "3             2583             2358.0       120.0             360.0   \n",
       "4             6000                0.0       141.0             360.0   \n",
       "\n",
       "   Credit_History  Property_Area  Loan_Status  Total_Income  \n",
       "0             1.0              2            1        5849.0  \n",
       "1             1.0              0            0        6091.0  \n",
       "2             1.0              2            1        3000.0  \n",
       "3             1.0              2            1        4941.0  \n",
       "4             1.0              2            1        6000.0  "
      ]
     },
     "execution_count": 16,
     "metadata": {},
     "output_type": "execute_result"
    }
   ],
   "source": [
    "train_data.head()"
   ]
  },
  {
   "cell_type": "code",
   "execution_count": 17,
   "id": "b9fee6e0",
   "metadata": {},
   "outputs": [
    {
     "data": {
      "text/plain": [
       "Loan_ID              0\n",
       "Gender               0\n",
       "Married              0\n",
       "Dependents           0\n",
       "Education            0\n",
       "Self_Employed        0\n",
       "ApplicantIncome      0\n",
       "CoapplicantIncome    0\n",
       "LoanAmount           0\n",
       "Loan_Amount_Term     0\n",
       "Credit_History       0\n",
       "Property_Area        0\n",
       "Loan_Status          0\n",
       "Total_Income         0\n",
       "dtype: int64"
      ]
     },
     "execution_count": 17,
     "metadata": {},
     "output_type": "execute_result"
    }
   ],
   "source": [
    "train_data.isnull().sum()"
   ]
  },
  {
   "cell_type": "code",
   "execution_count": 18,
   "id": "9029b045",
   "metadata": {},
   "outputs": [
    {
     "data": {
      "text/plain": [
       "(614, 14)"
      ]
     },
     "execution_count": 18,
     "metadata": {},
     "output_type": "execute_result"
    }
   ],
   "source": [
    "train_data.shape"
   ]
  },
  {
   "cell_type": "code",
   "execution_count": 19,
   "id": "4a2f7fa1",
   "metadata": {},
   "outputs": [
    {
     "data": {
      "text/plain": [
       "Index(['Loan_ID', 'Gender', 'Married', 'Dependents', 'Education',\n",
       "       'Self_Employed', 'ApplicantIncome', 'CoapplicantIncome', 'LoanAmount',\n",
       "       'Loan_Amount_Term', 'Credit_History', 'Property_Area', 'Loan_Status',\n",
       "       'Total_Income'],\n",
       "      dtype='object')"
      ]
     },
     "execution_count": 19,
     "metadata": {},
     "output_type": "execute_result"
    }
   ],
   "source": [
    "train_data.columns"
   ]
  },
  {
   "cell_type": "markdown",
   "id": "67371691",
   "metadata": {},
   "source": [
    "# Preprocessing Test Data"
   ]
  },
  {
   "cell_type": "code",
   "execution_count": 20,
   "id": "c882279c",
   "metadata": {},
   "outputs": [
    {
     "data": {
      "text/html": [
       "<div>\n",
       "<style scoped>\n",
       "    .dataframe tbody tr th:only-of-type {\n",
       "        vertical-align: middle;\n",
       "    }\n",
       "\n",
       "    .dataframe tbody tr th {\n",
       "        vertical-align: top;\n",
       "    }\n",
       "\n",
       "    .dataframe thead th {\n",
       "        text-align: right;\n",
       "    }\n",
       "</style>\n",
       "<table border=\"1\" class=\"dataframe\">\n",
       "  <thead>\n",
       "    <tr style=\"text-align: right;\">\n",
       "      <th></th>\n",
       "      <th>Loan_ID</th>\n",
       "      <th>Gender</th>\n",
       "      <th>Married</th>\n",
       "      <th>Dependents</th>\n",
       "      <th>Education</th>\n",
       "      <th>Self_Employed</th>\n",
       "      <th>ApplicantIncome</th>\n",
       "      <th>CoapplicantIncome</th>\n",
       "      <th>LoanAmount</th>\n",
       "      <th>Loan_Amount_Term</th>\n",
       "      <th>Credit_History</th>\n",
       "      <th>Property_Area</th>\n",
       "    </tr>\n",
       "  </thead>\n",
       "  <tbody>\n",
       "    <tr>\n",
       "      <th>0</th>\n",
       "      <td>LP001015</td>\n",
       "      <td>Male</td>\n",
       "      <td>Yes</td>\n",
       "      <td>0</td>\n",
       "      <td>Graduate</td>\n",
       "      <td>No</td>\n",
       "      <td>5720</td>\n",
       "      <td>0</td>\n",
       "      <td>110.0</td>\n",
       "      <td>360.0</td>\n",
       "      <td>1.0</td>\n",
       "      <td>Urban</td>\n",
       "    </tr>\n",
       "    <tr>\n",
       "      <th>1</th>\n",
       "      <td>LP001022</td>\n",
       "      <td>Male</td>\n",
       "      <td>Yes</td>\n",
       "      <td>1</td>\n",
       "      <td>Graduate</td>\n",
       "      <td>No</td>\n",
       "      <td>3076</td>\n",
       "      <td>1500</td>\n",
       "      <td>126.0</td>\n",
       "      <td>360.0</td>\n",
       "      <td>1.0</td>\n",
       "      <td>Urban</td>\n",
       "    </tr>\n",
       "    <tr>\n",
       "      <th>2</th>\n",
       "      <td>LP001031</td>\n",
       "      <td>Male</td>\n",
       "      <td>Yes</td>\n",
       "      <td>2</td>\n",
       "      <td>Graduate</td>\n",
       "      <td>No</td>\n",
       "      <td>5000</td>\n",
       "      <td>1800</td>\n",
       "      <td>208.0</td>\n",
       "      <td>360.0</td>\n",
       "      <td>1.0</td>\n",
       "      <td>Urban</td>\n",
       "    </tr>\n",
       "    <tr>\n",
       "      <th>3</th>\n",
       "      <td>LP001035</td>\n",
       "      <td>Male</td>\n",
       "      <td>Yes</td>\n",
       "      <td>2</td>\n",
       "      <td>Graduate</td>\n",
       "      <td>No</td>\n",
       "      <td>2340</td>\n",
       "      <td>2546</td>\n",
       "      <td>100.0</td>\n",
       "      <td>360.0</td>\n",
       "      <td>NaN</td>\n",
       "      <td>Urban</td>\n",
       "    </tr>\n",
       "    <tr>\n",
       "      <th>4</th>\n",
       "      <td>LP001051</td>\n",
       "      <td>Male</td>\n",
       "      <td>No</td>\n",
       "      <td>0</td>\n",
       "      <td>Not Graduate</td>\n",
       "      <td>No</td>\n",
       "      <td>3276</td>\n",
       "      <td>0</td>\n",
       "      <td>78.0</td>\n",
       "      <td>360.0</td>\n",
       "      <td>1.0</td>\n",
       "      <td>Urban</td>\n",
       "    </tr>\n",
       "  </tbody>\n",
       "</table>\n",
       "</div>"
      ],
      "text/plain": [
       "    Loan_ID Gender Married Dependents     Education Self_Employed  \\\n",
       "0  LP001015   Male     Yes          0      Graduate            No   \n",
       "1  LP001022   Male     Yes          1      Graduate            No   \n",
       "2  LP001031   Male     Yes          2      Graduate            No   \n",
       "3  LP001035   Male     Yes          2      Graduate            No   \n",
       "4  LP001051   Male      No          0  Not Graduate            No   \n",
       "\n",
       "   ApplicantIncome  CoapplicantIncome  LoanAmount  Loan_Amount_Term  \\\n",
       "0             5720                  0       110.0             360.0   \n",
       "1             3076               1500       126.0             360.0   \n",
       "2             5000               1800       208.0             360.0   \n",
       "3             2340               2546       100.0             360.0   \n",
       "4             3276                  0        78.0             360.0   \n",
       "\n",
       "   Credit_History Property_Area  \n",
       "0             1.0         Urban  \n",
       "1             1.0         Urban  \n",
       "2             1.0         Urban  \n",
       "3             NaN         Urban  \n",
       "4             1.0         Urban  "
      ]
     },
     "execution_count": 20,
     "metadata": {},
     "output_type": "execute_result"
    }
   ],
   "source": [
    "test_data.head()"
   ]
  },
  {
   "cell_type": "code",
   "execution_count": 21,
   "id": "50e077cf",
   "metadata": {},
   "outputs": [
    {
     "data": {
      "text/plain": [
       "(367, 12)"
      ]
     },
     "execution_count": 21,
     "metadata": {},
     "output_type": "execute_result"
    }
   ],
   "source": [
    "test_data.shape"
   ]
  },
  {
   "cell_type": "code",
   "execution_count": 22,
   "id": "8223c7d7",
   "metadata": {},
   "outputs": [
    {
     "data": {
      "text/plain": [
       "Loan_ID               0\n",
       "Gender               11\n",
       "Married               0\n",
       "Dependents           10\n",
       "Education             0\n",
       "Self_Employed        23\n",
       "ApplicantIncome       0\n",
       "CoapplicantIncome     0\n",
       "LoanAmount            5\n",
       "Loan_Amount_Term      6\n",
       "Credit_History       29\n",
       "Property_Area         0\n",
       "dtype: int64"
      ]
     },
     "execution_count": 22,
     "metadata": {},
     "output_type": "execute_result"
    }
   ],
   "source": [
    "test_data.isnull().sum()"
   ]
  },
  {
   "cell_type": "markdown",
   "id": "a9dd6823",
   "metadata": {},
   "source": [
    "### Encoding The Categorical Data"
   ]
  },
  {
   "cell_type": "code",
   "execution_count": 23,
   "id": "2cde6309",
   "metadata": {},
   "outputs": [],
   "source": [
    "test_data[\"Gender\"]=le.fit_transform(test_data[\"Gender\"])\n",
    "test_data[\"Self_Employed\"]=le.fit_transform(test_data[\"Self_Employed\"])\n",
    "test_data[\"Dependents\"]=le.fit_transform(test_data[\"Dependents\"])\n",
    "test_data[\"Married\"]=le.fit_transform(test_data[\"Married\"])\n",
    "test_data[\"Property_Area\"]=le.fit_transform(test_data[\"Property_Area\"])\n",
    "test_data[\"Education\"]=le.fit_transform(test_data[\"Education\"])"
   ]
  },
  {
   "cell_type": "markdown",
   "id": "b1a04fbe",
   "metadata": {},
   "source": [
    "### Filling The NULL Values"
   ]
  },
  {
   "cell_type": "code",
   "execution_count": 24,
   "id": "ee933646",
   "metadata": {},
   "outputs": [],
   "source": [
    "test_data[\"Gender\"].fillna(test_data[\"Gender\"].mode()[0])\n",
    "test_data[\"Married\"].fillna(test_data[\"Married\"].mode()[0])\n",
    "test_data['Dependents'].fillna(test_data[\"Dependents\"].mode()[0])\n",
    "test_data[\"Self_Employed\"].fillna(test_data[\"Self_Employed\"].mode()[0])\n",
    "test_data[\"Credit_History\"]=test_data[\"Credit_History\"].fillna(test_data[\"Credit_History\"].mode()[0])"
   ]
  },
  {
   "cell_type": "code",
   "execution_count": 25,
   "id": "c6d0538c",
   "metadata": {},
   "outputs": [],
   "source": [
    "test_data[\"Loan_Amount_Term\"]=test_data[\"Loan_Amount_Term\"].fillna(test_data[\"Loan_Amount_Term\"].mode()[0])"
   ]
  },
  {
   "cell_type": "code",
   "execution_count": 26,
   "id": "d8c33ee3",
   "metadata": {},
   "outputs": [],
   "source": [
    "test_data[\"LoanAmount\"]=test_data[\"LoanAmount\"].fillna(test_data[\"LoanAmount\"].median())"
   ]
  },
  {
   "cell_type": "code",
   "execution_count": 27,
   "id": "988c3cb1",
   "metadata": {},
   "outputs": [
    {
     "data": {
      "text/plain": [
       "Loan_ID              0\n",
       "Gender               0\n",
       "Married              0\n",
       "Dependents           0\n",
       "Education            0\n",
       "Self_Employed        0\n",
       "ApplicantIncome      0\n",
       "CoapplicantIncome    0\n",
       "LoanAmount           0\n",
       "Loan_Amount_Term     0\n",
       "Credit_History       0\n",
       "Property_Area        0\n",
       "dtype: int64"
      ]
     },
     "execution_count": 27,
     "metadata": {},
     "output_type": "execute_result"
    }
   ],
   "source": [
    "test_data.isnull().sum()"
   ]
  },
  {
   "cell_type": "code",
   "execution_count": 28,
   "id": "f1a865fa",
   "metadata": {},
   "outputs": [
    {
     "data": {
      "text/plain": [
       "Index(['Loan_ID', 'Gender', 'Married', 'Dependents', 'Education',\n",
       "       'Self_Employed', 'ApplicantIncome', 'CoapplicantIncome', 'LoanAmount',\n",
       "       'Loan_Amount_Term', 'Credit_History', 'Property_Area'],\n",
       "      dtype='object')"
      ]
     },
     "execution_count": 28,
     "metadata": {},
     "output_type": "execute_result"
    }
   ],
   "source": [
    "test_data.columns"
   ]
  },
  {
   "cell_type": "markdown",
   "id": "afb7a9b8",
   "metadata": {},
   "source": [
    "# Visiualizing Training Data"
   ]
  },
  {
   "cell_type": "code",
   "execution_count": 29,
   "id": "8589c187",
   "metadata": {},
   "outputs": [
    {
     "name": "stderr",
     "output_type": "stream",
     "text": [
      "C:\\Users\\ASUS\\anaconda3\\lib\\site-packages\\seaborn\\_decorators.py:36: FutureWarning: Pass the following variable as a keyword arg: x. From version 0.12, the only valid positional argument will be `data`, and passing other arguments without an explicit keyword will result in an error or misinterpretation.\n",
      "  warnings.warn(\n"
     ]
    },
    {
     "data": {
      "text/plain": [
       "<AxesSubplot:xlabel='Loan_Status', ylabel='count'>"
      ]
     },
     "execution_count": 29,
     "metadata": {},
     "output_type": "execute_result"
    },
    {
     "data": {
      "image/png": "[encoded data removed]",
      "text/plain": [
       "<Figure size 432x288 with 1 Axes>"
      ]
     },
     "metadata": {
      "needs_background": "light"
     },
     "output_type": "display_data"
    }
   ],
   "source": [
    "sns.countplot(train_data[\"Loan_Status\"])"
   ]
  },
  {
   "cell_type": "code",
   "execution_count": 30,
   "id": "af5cbc71",
   "metadata": {},
   "outputs": [
    {
     "name": "stderr",
     "output_type": "stream",
     "text": [
      "C:\\Users\\ASUS\\anaconda3\\lib\\site-packages\\seaborn\\_decorators.py:36: FutureWarning: Pass the following variable as a keyword arg: x. From version 0.12, the only valid positional argument will be `data`, and passing other arguments without an explicit keyword will result in an error or misinterpretation.\n",
      "  warnings.warn(\n"
     ]
    },
    {
     "data": {
      "text/plain": [
       "<AxesSubplot:xlabel='Gender', ylabel='count'>"
      ]
     },
     "execution_count": 30,
     "metadata": {},
     "output_type": "execute_result"
    },
    {
     "data": {
      "image/png": "[encoded data removed]",
      "text/plain": [
       "<Figure size 432x288 with 1 Axes>"
      ]
     },
     "metadata": {
      "needs_background": "light"
     },
     "output_type": "display_data"
    }
   ],
   "source": [
    "sns.countplot(train_data[\"Gender\"])"
   ]
  },
  {
   "cell_type": "code",
   "execution_count": 31,
   "id": "67d76ee2",
   "metadata": {},
   "outputs": [
    {
     "name": "stderr",
     "output_type": "stream",
     "text": [
      "C:\\Users\\ASUS\\anaconda3\\lib\\site-packages\\seaborn\\_decorators.py:36: FutureWarning: Pass the following variable as a keyword arg: x. From version 0.12, the only valid positional argument will be `data`, and passing other arguments without an explicit keyword will result in an error or misinterpretation.\n",
      "  warnings.warn(\n"
     ]
    },
    {
     "data": {
      "text/plain": [
       "<AxesSubplot:xlabel='Education', ylabel='count'>"
      ]
     },
     "execution_count": 31,
     "metadata": {},
     "output_type": "execute_result"
    },
    {
     "data": {
      "image/png": "[encoded data removed]",
      "text/plain": [
       "<Figure size 432x288 with 1 Axes>"
      ]
     },
     "metadata": {
      "needs_background": "light"
     },
     "output_type": "display_data"
    }
   ],
   "source": [
    "sns.countplot(train_data[\"Education\"])"
   ]
  },
  {
   "cell_type": "code",
   "execution_count": 32,
   "id": "9ed7dbb7",
   "metadata": {},
   "outputs": [
    {
     "name": "stderr",
     "output_type": "stream",
     "text": [
      "C:\\Users\\ASUS\\anaconda3\\lib\\site-packages\\seaborn\\_decorators.py:36: FutureWarning: Pass the following variable as a keyword arg: x. From version 0.12, the only valid positional argument will be `data`, and passing other arguments without an explicit keyword will result in an error or misinterpretation.\n",
      "  warnings.warn(\n"
     ]
    },
    {
     "data": {
      "text/plain": [
       "<AxesSubplot:xlabel='Self_Employed', ylabel='count'>"
      ]
     },
     "execution_count": 32,
     "metadata": {},
     "output_type": "execute_result"
    },
    {
     "data": {
      "image/png": "[encoded data removed]",
      "text/plain": [
       "<Figure size 432x288 with 1 Axes>"
      ]
     },
     "metadata": {
      "needs_background": "light"
     },
     "output_type": "display_data"
    }
   ],
   "source": [
    "sns.countplot(train_data[\"Self_Employed\"])"
   ]
  },
  {
   "cell_type": "code",
   "execution_count": 33,
   "id": "6c525f2d",
   "metadata": {},
   "outputs": [
    {
     "name": "stderr",
     "output_type": "stream",
     "text": [
      "C:\\Users\\ASUS\\anaconda3\\lib\\site-packages\\seaborn\\_decorators.py:36: FutureWarning: Pass the following variable as a keyword arg: x. From version 0.12, the only valid positional argument will be `data`, and passing other arguments without an explicit keyword will result in an error or misinterpretation.\n",
      "  warnings.warn(\n"
     ]
    },
    {
     "data": {
      "text/plain": [
       "<AxesSubplot:xlabel='Credit_History', ylabel='count'>"
      ]
     },
     "execution_count": 33,
     "metadata": {},
     "output_type": "execute_result"
    },
    {
     "data": {
      "image/png": "[encoded data removed]",
      "text/plain": [
       "<Figure size 432x288 with 1 Axes>"
      ]
     },
     "metadata": {
      "needs_background": "light"
     },
     "output_type": "display_data"
    }
   ],
   "source": [
    "sns.countplot(train_data[\"Credit_History\"])"
   ]
  },
  {
   "cell_type": "code",
   "execution_count": 34,
   "id": "8fc6e959",
   "metadata": {},
   "outputs": [
    {
     "data": {
      "text/plain": [
       "<AxesSubplot:ylabel='None'>"
      ]
     },
     "execution_count": 34,
     "metadata": {},
     "output_type": "execute_result"
    },
    {
     "data": {
      "image/png": "[encoded data removed]",
      "text/plain": [
       "<Figure size 432x288 with 1 Axes>"
      ]
     },
     "metadata": {},
     "output_type": "display_data"
    }
   ],
   "source": [
    "train_data.groupby('Loan_Status').size().plot(kind='pie', autopct='%.2f')"
   ]
  },
  {
   "cell_type": "code",
   "execution_count": 35,
   "id": "c0873d49",
   "metadata": {},
   "outputs": [
    {
     "data": {
      "text/plain": [
       "1    233\n",
       "2    202\n",
       "0    179\n",
       "Name: Property_Area, dtype: int64"
      ]
     },
     "execution_count": 35,
     "metadata": {},
     "output_type": "execute_result"
    }
   ],
   "source": [
    "train_data[\"Property_Area\"].value_counts()"
   ]
  },
  {
   "cell_type": "code",
   "execution_count": 36,
   "id": "9a91588c",
   "metadata": {},
   "outputs": [],
   "source": [
    "train_data=train_data.drop([\"ApplicantIncome\",\"CoapplicantIncome\"], axis=1)"
   ]
  },
  {
   "cell_type": "code",
   "execution_count": 37,
   "id": "38c83aed",
   "metadata": {},
   "outputs": [
    {
     "data": {
      "text/plain": [
       "<AxesSubplot:>"
      ]
     },
     "execution_count": 37,
     "metadata": {},
     "output_type": "execute_result"
    },
    {
     "data": {
      "image/png": "[encoded data removed]",
      "text/plain": [
       "<Figure size 1440x1440 with 2 Axes>"
      ]
     },
     "metadata": {
      "needs_background": "light"
     },
     "output_type": "display_data"
    }
   ],
   "source": [
    "plt.figure(figsize=(20,20))\n",
    "sns.heatmap(train_data.corr(),annot=True)"
   ]
  },
  {
   "cell_type": "code",
   "execution_count": 38,
   "id": "6ab188d0",
   "metadata": {},
   "outputs": [],
   "source": [
    "y=train_data['Loan_Status']\n"
   ]
  },
  {
   "cell_type": "code",
   "execution_count": 39,
   "id": "3c9cb76e",
   "metadata": {},
   "outputs": [
    {
     "data": {
      "text/plain": [
       "(614,)"
      ]
     },
     "execution_count": 39,
     "metadata": {},
     "output_type": "execute_result"
    }
   ],
   "source": [
    "y.shape"
   ]
  },
  {
   "cell_type": "code",
   "execution_count": 40,
   "id": "62d8cef7",
   "metadata": {},
   "outputs": [],
   "source": [
    "train_data=train_data.drop(['Loan_Status','Loan_ID'],axis=1)\n"
   ]
  },
  {
   "cell_type": "code",
   "execution_count": 41,
   "id": "7fd248af",
   "metadata": {},
   "outputs": [
    {
     "data": {
      "text/plain": [
       "(614, 10)"
      ]
     },
     "execution_count": 41,
     "metadata": {},
     "output_type": "execute_result"
    }
   ],
   "source": [
    "train_data.shape"
   ]
  },
  {
   "cell_type": "markdown",
   "id": "b6214178",
   "metadata": {},
   "source": [
    "## Splitting The DataSet Without SMOTE"
   ]
  },
  {
   "cell_type": "code",
   "execution_count": 42,
   "id": "dc253812",
   "metadata": {},
   "outputs": [],
   "source": [
    "train_x,test_x,train_y,test_y=train_test_split(train_data,y,random_state=555,test_size=0.3)"
   ]
  },
  {
   "cell_type": "code",
   "execution_count": 43,
   "id": "6cf2ec20",
   "metadata": {},
   "outputs": [
    {
     "name": "stdout",
     "output_type": "stream",
     "text": [
      "(429, 10)\n",
      "(185, 10)\n",
      "(429,)\n",
      "(185,)\n"
     ]
    }
   ],
   "source": [
    "print(train_x.shape)\n",
    "print(test_x.shape)\n",
    "print(train_y.shape)\n",
    "print(test_y.shape)"
   ]
  },
  {
   "cell_type": "markdown",
   "id": "776c035f",
   "metadata": {},
   "source": [
    "### Using AdaBoost Classifier"
   ]
  },
  {
   "cell_type": "code",
   "execution_count": 44,
   "id": "a3f9dffb",
   "metadata": {},
   "outputs": [
    {
     "name": "stdout",
     "output_type": "stream",
     "text": [
      "The confussion metrix for AdaBoost is:\n",
      " [[ 33  28]\n",
      " [ 14 110]]\n",
      "The accuracy of AdaBoost Classifier is:\t\t 0.772972972972973\n",
      "The recal score of AdaBoost Classifier is is:\t\t 0.8870967741935484\n",
      "The precision of AdaBoost Classifier is:\t\t 0.7971014492753623\n",
      "The f1 score of AdaBoost Classifier is:\t\t 0.8396946564885496\n"
     ]
    }
   ],
   "source": [
    "ada=AdaBoostClassifier()\n",
    "ada.fit(train_x,train_y)\n",
    "pred_ada=ada.predict(test_x)\n",
    "accuracy_ada=metrics.accuracy_score(test_y,pred_ada)\n",
    "print(\"The confussion metrix for AdaBoost is:\\n\",metrics.confusion_matrix(test_y,pred_ada))\n",
    "print(\"The accuracy of AdaBoost Classifier is:\\t\\t\",accuracy_ada)\n",
    "print(\"The recal score of AdaBoost Classifier is is:\\t\\t\",metrics.recall_score(test_y,pred_ada))\n",
    "print(\"The precision of AdaBoost Classifier is:\\t\\t\",metrics.precision_score(test_y,pred_ada))\n",
    "print(\"The f1 score of AdaBoost Classifier is:\\t\\t\",metrics.f1_score(test_y,pred_ada))"
   ]
  },
  {
   "cell_type": "markdown",
   "id": "0c63931f",
   "metadata": {},
   "source": [
    "### Using Random Forest Classifier"
   ]
  },
  {
   "cell_type": "code",
   "execution_count": 45,
   "id": "0dd5a007",
   "metadata": {},
   "outputs": [
    {
     "name": "stdout",
     "output_type": "stream",
     "text": [
      "The confussion metrix for Random forest is:\n",
      " [[ 34  27]\n",
      " [  9 115]]\n",
      "The accuracy of Random Forest Classifier is:\t\t 0.8054054054054054\n",
      "The recal score of Random Forest Classifier is:\t\t 0.9274193548387096\n",
      "The precision of Random Forest Classifier is:\t\t 0.8098591549295775\n",
      "The f1 score of Random Forest Classifier is:\t\t 0.8646616541353385\n"
     ]
    }
   ],
   "source": [
    "rf=RandomForestClassifier()\n",
    "rf.fit(train_x,train_y)\n",
    "pred=rf.predict(test_x)\n",
    "accuracy_rf=metrics.accuracy_score(test_y,pred)\n",
    "print(\"The confussion metrix for Random forest is:\\n\",metrics.confusion_matrix(test_y,pred))\n",
    "print(\"The accuracy of Random Forest Classifier is:\\t\\t\",metrics.accuracy_score(test_y,pred))\n",
    "print(\"The recal score of Random Forest Classifier is:\\t\\t\",metrics.recall_score(test_y,pred))\n",
    "print(\"The precision of Random Forest Classifier is:\\t\\t\",metrics.precision_score(test_y,pred))\n",
    "print(\"The f1 score of Random Forest Classifier is:\\t\\t\",metrics.f1_score(test_y,pred))"
   ]
  },
  {
   "cell_type": "markdown",
   "id": "3868139d",
   "metadata": {},
   "source": [
    "### Using Decision Tree Classifier"
   ]
  },
  {
   "cell_type": "code",
   "execution_count": 46,
   "id": "fb26a2c5",
   "metadata": {},
   "outputs": [
    {
     "name": "stdout",
     "output_type": "stream",
     "text": [
      "The confussion metrix for Decision Tree is:\n",
      " [[33 28]\n",
      " [31 93]]\n",
      "The accuracy of Decision Tree Classifier is:\t\t 0.6810810810810811\n",
      "The recal score of Decision Tree Classifier is:\t\t 0.75\n",
      "The precision of Decision Tree Classifier is:\t\t 0.768595041322314\n",
      "The f1 score of Decision Tree Classifier is:\t\t 0.7591836734693879\n"
     ]
    }
   ],
   "source": [
    "dtc=DecisionTreeClassifier()\n",
    "dtc.fit(train_x,train_y)\n",
    "pred_dtc=dtc.predict(test_x)\n",
    "accuracy_dsc=metrics.accuracy_score(test_y,pred_dtc)\n",
    "print(\"The confussion metrix for Decision Tree is:\\n\",metrics.confusion_matrix(test_y,pred_dtc))\n",
    "print(\"The accuracy of Decision Tree Classifier is:\\t\\t\",accuracy_dsc)\n",
    "print(\"The recal score of Decision Tree Classifier is:\\t\\t\",metrics.recall_score(test_y,pred_dtc))\n",
    "print(\"The precision of Decision Tree Classifier is:\\t\\t\",metrics.precision_score(test_y,pred_dtc))\n",
    "print(\"The f1 score of Decision Tree Classifier is:\\t\\t\",metrics.f1_score(test_y,pred_dtc))"
   ]
  },
  {
   "cell_type": "markdown",
   "id": "fb47c122",
   "metadata": {},
   "source": [
    "### Using Logistic Regression"
   ]
  },
  {
   "cell_type": "code",
   "execution_count": 47,
   "id": "35e38ef4",
   "metadata": {},
   "outputs": [
    {
     "name": "stdout",
     "output_type": "stream",
     "text": [
      "The confussion metrix for Logistic Regression is:\n",
      " [[ 28  33]\n",
      " [  5 119]]\n",
      "The accuracy of Logistic Regression is:\t\t 0.7945945945945946\n",
      "The recal score Logistic Regression is:\t\t 0.9596774193548387\n",
      "The precision Logistic Regression is:\t\t 0.7828947368421053\n",
      "The f1 score Logistic Regression is:\t\t 0.8623188405797102\n"
     ]
    }
   ],
   "source": [
    "lr=LogisticRegression(max_iter=5000)\n",
    "lr.fit(train_x,train_y)\n",
    "pred_lr=lr.predict(test_x)\n",
    "accuracy_lr=metrics.accuracy_score(test_y,pred_lr)\n",
    "print(\"The confussion metrix for Logistic Regression is:\\n\",metrics.confusion_matrix(test_y,pred_lr))\n",
    "print(\"The accuracy of Logistic Regression is:\\t\\t\",accuracy_lr)\n",
    "print(\"The recal score Logistic Regression is:\\t\\t\",metrics.recall_score(test_y,pred_lr))\n",
    "print(\"The precision Logistic Regression is:\\t\\t\",metrics.precision_score(test_y,pred_lr))\n",
    "print(\"The f1 score Logistic Regression is:\\t\\t\",metrics.f1_score(test_y,pred_lr))"
   ]
  },
  {
   "cell_type": "markdown",
   "id": "7ebb5ec8",
   "metadata": {},
   "source": [
    "### Using KNN classifier"
   ]
  },
  {
   "cell_type": "code",
   "execution_count": 48,
   "id": "b65eedac",
   "metadata": {},
   "outputs": [
    {
     "name": "stdout",
     "output_type": "stream",
     "text": [
      "The confussion metrix for KNN Classifier is:\n",
      " [[  6  55]\n",
      " [ 18 106]]\n",
      "The accuracy of KNN Classifier is:\t\t 0.6054054054054054\n",
      "The recal score of KNN Classifier is is:\t\t 0.8548387096774194\n",
      "The precision of KNN Classifier is:\t\t 0.6583850931677019\n",
      "The f1 score of KNN Classifier is:\t\t 0.743859649122807\n"
     ]
    }
   ],
   "source": [
    "kn=KNeighborsClassifier()\n",
    "kn.fit(train_x,train_y)\n",
    "pred_kn=kn.predict(test_x)\n",
    "accuracy_knn=metrics.accuracy_score(test_y,pred_kn)\n",
    "print(\"The confussion metrix for KNN Classifier is:\\n\",metrics.confusion_matrix(test_y,pred_kn))\n",
    "print(\"The accuracy of KNN Classifier is:\\t\\t\",accuracy_knn)\n",
    "print(\"The recal score of KNN Classifier is is:\\t\\t\",metrics.recall_score(test_y,pred_kn))\n",
    "print(\"The precision of KNN Classifier is:\\t\\t\",metrics.precision_score(test_y,pred_kn))\n",
    "print(\"The f1 score of KNN Classifier is:\\t\\t\",metrics.f1_score(test_y,pred_kn))"
   ]
  },
  {
   "cell_type": "markdown",
   "id": "2fa0cbd9",
   "metadata": {},
   "source": [
    "### Using SVC"
   ]
  },
  {
   "cell_type": "code",
   "execution_count": 49,
   "id": "83d869da",
   "metadata": {},
   "outputs": [
    {
     "name": "stdout",
     "output_type": "stream",
     "text": [
      "The confussion metrix for SVM Classifier is:\n",
      " [[  0  61]\n",
      " [  0 124]]\n",
      "The accuracy of SVM Classifier is:\t\t 0.6702702702702703\n",
      "The recal score of SVM Classifier is is:\t\t 1.0\n",
      "The precision of SVM Classifier is:\t\t 0.6702702702702703\n",
      "The f1 score of SVM Classifier is:\t\t 0.8025889967637541\n"
     ]
    }
   ],
   "source": [
    "svc=SVC()\n",
    "svc.fit(train_x,train_y)\n",
    "pred_svc=svc.predict(test_x)\n",
    "accuracy_svm=metrics.accuracy_score(test_y,pred_svc)\n",
    "print(\"The confussion metrix for SVM Classifier is:\\n\",metrics.confusion_matrix(test_y,pred_svc))\n",
    "print(\"The accuracy of SVM Classifier is:\\t\\t\",accuracy_svm)\n",
    "print(\"The recal score of SVM Classifier is is:\\t\\t\",metrics.recall_score(test_y,pred_svc))\n",
    "print(\"The precision of SVM Classifier is:\\t\\t\",metrics.precision_score(test_y,pred_svc))\n",
    "print(\"The f1 score of SVM Classifier is:\\t\\t\",metrics.f1_score(test_y,pred_svc))"
   ]
  },
  {
   "cell_type": "code",
   "execution_count": 50,
   "id": "1b391ee0",
   "metadata": {},
   "outputs": [
    {
     "data": {
      "text/plain": [
       "Text(0.5, 1.0, 'Comparision of Models based on  their ACCURACY')"
      ]
     },
     "execution_count": 50,
     "metadata": {},
     "output_type": "execute_result"
    },
    {
     "data": {
      "image/png": "[encoded data removed]",
      "text/plain": [
       "<Figure size 432x288 with 1 Axes>"
      ]
     },
     "metadata": {
      "needs_background": "light"
     },
     "output_type": "display_data"
    }
   ],
   "source": [
    "plt.bar(['AdaBoost','RF','LR','DT','KNN','SVM'],[accuracy_ada,accuracy_rf,accuracy_lr,accuracy_dsc,accuracy_knn,accuracy_svm],color=['red','green','purple','orange','yellow','grey'])\n",
    "plt.plot([accuracy_ada,accuracy_rf,accuracy_lr,accuracy_dsc,accuracy_knn,accuracy_svm],color='black')\n",
    "plt.title('Comparision of Models based on  their ACCURACY')"
   ]
  },
  {
   "cell_type": "markdown",
   "id": "71d9fa48",
   "metadata": {},
   "source": [
    "### Maximum Accuracy without using SMOTE"
   ]
  },
  {
   "cell_type": "code",
   "execution_count": 51,
   "id": "250a3406",
   "metadata": {},
   "outputs": [
    {
     "name": "stdout",
     "output_type": "stream",
     "text": [
      "0.8054054054054054\n"
     ]
    }
   ],
   "source": [
    "print(max(accuracy_ada,accuracy_rf,accuracy_lr,accuracy_dsc,accuracy_knn,accuracy_svm))"
   ]
  },
  {
   "cell_type": "markdown",
   "id": "8b071082",
   "metadata": {},
   "source": [
    "# Using SMOTE"
   ]
  },
  {
   "cell_type": "code",
   "execution_count": 52,
   "id": "0edcae13",
   "metadata": {},
   "outputs": [
    {
     "name": "stdout",
     "output_type": "stream",
     "text": [
      "(844, 10)\n",
      "(844,)\n"
     ]
    }
   ],
   "source": [
    "smote=SMOTE()\n",
    "balanced_x,balanced_y=smote.fit_resample(train_data,y)\n",
    "print(balanced_x.shape)\n",
    "print(balanced_y.shape)"
   ]
  },
  {
   "cell_type": "code",
   "execution_count": 53,
   "id": "5c800845",
   "metadata": {},
   "outputs": [
    {
     "data": {
      "text/plain": [
       "0    422\n",
       "1    422\n",
       "Name: Loan_Status, dtype: int64"
      ]
     },
     "execution_count": 53,
     "metadata": {},
     "output_type": "execute_result"
    }
   ],
   "source": [
    "balanced_y.value_counts()"
   ]
  },
  {
   "cell_type": "code",
   "execution_count": 54,
   "id": "af453754",
   "metadata": {},
   "outputs": [
    {
     "name": "stderr",
     "output_type": "stream",
     "text": [
      "C:\\Users\\ASUS\\anaconda3\\lib\\site-packages\\seaborn\\_decorators.py:36: FutureWarning: Pass the following variable as a keyword arg: x. From version 0.12, the only valid positional argument will be `data`, and passing other arguments without an explicit keyword will result in an error or misinterpretation.\n",
      "  warnings.warn(\n"
     ]
    },
    {
     "data": {
      "text/plain": [
       "<AxesSubplot:xlabel='Loan_Status', ylabel='count'>"
      ]
     },
     "execution_count": 54,
     "metadata": {},
     "output_type": "execute_result"
    },
    {
     "data": {
      "image/png": "[encoded data removed]",
      "text/plain": [
       "<Figure size 432x288 with 1 Axes>"
      ]
     },
     "metadata": {
      "needs_background": "light"
     },
     "output_type": "display_data"
    }
   ],
   "source": [
    "sns.countplot(balanced_y)"
   ]
  },
  {
   "cell_type": "markdown",
   "id": "ea1fd985",
   "metadata": {},
   "source": [
    "## Splitting The DataSet"
   ]
  },
  {
   "cell_type": "code",
   "execution_count": 55,
   "id": "1964ea28",
   "metadata": {},
   "outputs": [],
   "source": [
    "train_bx,test_bx,train_by,test_by=train_test_split(balanced_x,balanced_y,random_state=555,test_size=0.3)"
   ]
  },
  {
   "cell_type": "code",
   "execution_count": 56,
   "id": "5d72efdc",
   "metadata": {},
   "outputs": [
    {
     "name": "stdout",
     "output_type": "stream",
     "text": [
      "(590, 10)\n",
      "(254, 10)\n",
      "(590,)\n",
      "(254,)\n"
     ]
    }
   ],
   "source": [
    "print(train_bx.shape)\n",
    "print(test_bx.shape)\n",
    "print(train_by.shape)\n",
    "print(test_by.shape)"
   ]
  },
  {
   "cell_type": "markdown",
   "id": "6ecb051b",
   "metadata": {},
   "source": [
    "### Using AdaBoost Classifier"
   ]
  },
  {
   "cell_type": "code",
   "execution_count": 57,
   "id": "8ed2046c",
   "metadata": {},
   "outputs": [
    {
     "name": "stdout",
     "output_type": "stream",
     "text": [
      "The confussion metrix for AdaBoost is:\n",
      " [[ 94  34]\n",
      " [ 15 111]]\n",
      "The accuracy of AdaBoost Classifier is:\t\t 0.8070866141732284\n",
      "The recal score of AdaBoost Classifier is is:\t\t 0.8809523809523809\n",
      "The precision of AdaBoost Classifier is:\t\t 0.7655172413793103\n",
      "The f1 score of AdaBoost Classifier is:\t\t 0.8191881918819187\n"
     ]
    }
   ],
   "source": [
    "bada=AdaBoostClassifier()\n",
    "bada.fit(train_bx,train_by)\n",
    "bpred_ada=bada.predict(test_bx)\n",
    "accuracy_bada=metrics.accuracy_score(test_by,bpred_ada)\n",
    "print(\"The confussion metrix for AdaBoost is:\\n\",metrics.confusion_matrix(test_by,bpred_ada))\n",
    "print(\"The accuracy of AdaBoost Classifier is:\\t\\t\",accuracy_bada)\n",
    "print(\"The recal score of AdaBoost Classifier is is:\\t\\t\",metrics.recall_score(test_by,bpred_ada))\n",
    "print(\"The precision of AdaBoost Classifier is:\\t\\t\",metrics.precision_score(test_by,bpred_ada))\n",
    "print(\"The f1 score of AdaBoost Classifier is:\\t\\t\",metrics.f1_score(test_by,bpred_ada))"
   ]
  },
  {
   "cell_type": "markdown",
   "id": "9acce249",
   "metadata": {},
   "source": [
    "### Using Random Forest Classifer"
   ]
  },
  {
   "cell_type": "code",
   "execution_count": 58,
   "id": "1677f29e",
   "metadata": {},
   "outputs": [
    {
     "name": "stdout",
     "output_type": "stream",
     "text": [
      "The confussion metrix for Random forest is:\n",
      " [[100  28]\n",
      " [ 17 109]]\n",
      "The accuracy of Random Forest Classifier is:\t\t 0.8228346456692913\n",
      "The recal score of Random Forest Classifier is:\t\t 0.8650793650793651\n",
      "The precision of Random Forest Classifier is:\t\t 0.7956204379562044\n",
      "The f1 score of Random Forest Classifier is:\t\t 0.8288973384030419\n"
     ]
    }
   ],
   "source": [
    "brf=RandomForestClassifier()\n",
    "brf.fit(train_bx,train_by)\n",
    "bpred=brf.predict(test_bx)\n",
    "accuracy_brf=metrics.accuracy_score(test_by,bpred)\n",
    "print(\"The confussion metrix for Random forest is:\\n\",metrics.confusion_matrix(test_by,bpred))\n",
    "print(\"The accuracy of Random Forest Classifier is:\\t\\t\",metrics.accuracy_score(test_by,bpred))\n",
    "print(\"The recal score of Random Forest Classifier is:\\t\\t\",metrics.recall_score(test_by,bpred))\n",
    "print(\"The precision of Random Forest Classifier is:\\t\\t\",metrics.precision_score(test_by,bpred))\n",
    "print(\"The f1 score of Random Forest Classifier is:\\t\\t\",metrics.f1_score(test_by,bpred))"
   ]
  },
  {
   "cell_type": "markdown",
   "id": "b36cf4d0",
   "metadata": {},
   "source": [
    "### Using Decision Tree Classifier"
   ]
  },
  {
   "cell_type": "code",
   "execution_count": 59,
   "id": "2e99f5a9",
   "metadata": {},
   "outputs": [
    {
     "name": "stdout",
     "output_type": "stream",
     "text": [
      "The confussion metrix for Decision Tree is:\n",
      " [[100  28]\n",
      " [ 36  90]]\n",
      "The accuracy of Decision Tree Classifier is:\t\t 0.7480314960629921\n",
      "The recal score of Decision Tree Classifier is:\t\t 0.7142857142857143\n",
      "The precision of Decision Tree Classifier is:\t\t 0.7627118644067796\n",
      "The f1 score of Decision Tree Classifier is:\t\t 0.7377049180327869\n"
     ]
    }
   ],
   "source": [
    "bdtc=DecisionTreeClassifier()\n",
    "bdtc.fit(train_bx,train_by)\n",
    "bpred_dtc=bdtc.predict(test_bx)\n",
    "accuracy_bdsc=metrics.accuracy_score(test_by,bpred_dtc)\n",
    "print(\"The confussion metrix for Decision Tree is:\\n\",metrics.confusion_matrix(test_by,bpred_dtc))\n",
    "print(\"The accuracy of Decision Tree Classifier is:\\t\\t\",accuracy_bdsc)\n",
    "print(\"The recal score of Decision Tree Classifier is:\\t\\t\",metrics.recall_score(test_by,bpred_dtc))\n",
    "print(\"The precision of Decision Tree Classifier is:\\t\\t\",metrics.precision_score(test_by,bpred_dtc))\n",
    "print(\"The f1 score of Decision Tree Classifier is:\\t\\t\",metrics.f1_score(test_by,bpred_dtc))"
   ]
  },
  {
   "cell_type": "markdown",
   "id": "0502aec6",
   "metadata": {},
   "source": [
    "### Using  Logistic Regression"
   ]
  },
  {
   "cell_type": "code",
   "execution_count": 60,
   "id": "87c7e6a1",
   "metadata": {},
   "outputs": [
    {
     "name": "stdout",
     "output_type": "stream",
     "text": [
      "The confussion metrix for Logistic Regression is:\n",
      " [[ 89  39]\n",
      " [ 20 106]]\n",
      "The accuracy of Logistic Regression is:\t\t 0.7677165354330708\n",
      "The recal score Logistic Regression is:\t\t 0.8412698412698413\n",
      "The precision Logistic Regression is:\t\t 0.7310344827586207\n",
      "The f1 score Logistic Regression is:\t\t 0.7822878228782287\n"
     ]
    }
   ],
   "source": [
    "blr=LogisticRegression(max_iter=5000)\n",
    "blr.fit(train_bx,train_by)\n",
    "bpred_lr=blr.predict(test_bx)\n",
    "accuracy_blr=metrics.accuracy_score(test_by,bpred_lr)\n",
    "print(\"The confussion metrix for Logistic Regression is:\\n\",metrics.confusion_matrix(test_by,bpred_lr))\n",
    "print(\"The accuracy of Logistic Regression is:\\t\\t\",accuracy_blr)\n",
    "print(\"The recal score Logistic Regression is:\\t\\t\",metrics.recall_score(test_by,bpred_lr))\n",
    "print(\"The precision Logistic Regression is:\\t\\t\",metrics.precision_score(test_by,bpred_lr))\n",
    "print(\"The f1 score Logistic Regression is:\\t\\t\",metrics.f1_score(test_by,bpred_lr))"
   ]
  },
  {
   "cell_type": "markdown",
   "id": "b1bb931c",
   "metadata": {},
   "source": [
    "### Using KNN Classifier"
   ]
  },
  {
   "cell_type": "code",
   "execution_count": 61,
   "id": "a963ca5f",
   "metadata": {},
   "outputs": [
    {
     "name": "stdout",
     "output_type": "stream",
     "text": [
      "The confussion metrix for KNN Classifier is:\n",
      " [[ 33  95]\n",
      " [ 11 115]]\n",
      "The accuracy of KNN Classifier is:\t\t 0.5826771653543307\n",
      "The recal score of KNN Classifier is is:\t\t 0.9126984126984127\n",
      "The precision of KNN Classifier is:\t\t 0.5476190476190477\n",
      "The f1 score of KNN Classifier is:\t\t 0.6845238095238095\n"
     ]
    }
   ],
   "source": [
    "bkn=KNeighborsClassifier()\n",
    "bkn.fit(train_bx,train_by)\n",
    "bpred_kn=kn.predict(test_bx)\n",
    "accuracy_bknn=metrics.accuracy_score(test_by,bpred_kn)\n",
    "print(\"The confussion metrix for KNN Classifier is:\\n\",metrics.confusion_matrix(test_by,bpred_kn))\n",
    "print(\"The accuracy of KNN Classifier is:\\t\\t\",accuracy_bknn)\n",
    "print(\"The recal score of KNN Classifier is is:\\t\\t\",metrics.recall_score(test_by,bpred_kn))\n",
    "print(\"The precision of KNN Classifier is:\\t\\t\",metrics.precision_score(test_by,bpred_kn))\n",
    "print(\"The f1 score of KNN Classifier is:\\t\\t\",metrics.f1_score(test_by,bpred_kn))"
   ]
  },
  {
   "cell_type": "markdown",
   "id": "e4fa674b",
   "metadata": {},
   "source": [
    "### Using SVC"
   ]
  },
  {
   "cell_type": "code",
   "execution_count": 62,
   "id": "b3eae636",
   "metadata": {},
   "outputs": [
    {
     "name": "stdout",
     "output_type": "stream",
     "text": [
      "The confussion metrix for SVM Classifier is:\n",
      " [[ 15 113]\n",
      " [ 11 115]]\n",
      "The accuracy of SVM Classifier is:\t\t 0.5118110236220472\n",
      "The recal score of SVM Classifier is is:\t\t 0.9126984126984127\n",
      "The precision of SVM Classifier is:\t\t 0.5043859649122807\n",
      "The f1 score of SVM Classifier is:\t\t 0.6497175141242938\n"
     ]
    }
   ],
   "source": [
    "bsvc=SVC()\n",
    "bsvc.fit(train_bx,train_by)\n",
    "bpred_svc=bsvc.predict(test_bx)\n",
    "accuracy_bsvm=metrics.accuracy_score(test_by,bpred_svc)\n",
    "print(\"The confussion metrix for SVM Classifier is:\\n\",metrics.confusion_matrix(test_by,bpred_svc))\n",
    "print(\"The accuracy of SVM Classifier is:\\t\\t\",accuracy_bsvm)\n",
    "print(\"The recal score of SVM Classifier is is:\\t\\t\",metrics.recall_score(test_by,bpred_svc))\n",
    "print(\"The precision of SVM Classifier is:\\t\\t\",metrics.precision_score(test_by,bpred_svc))\n",
    "print(\"The f1 score of SVM Classifier is:\\t\\t\",metrics.f1_score(test_by,bpred_svc))"
   ]
  },
  {
   "cell_type": "code",
   "execution_count": 63,
   "id": "9dff2936",
   "metadata": {},
   "outputs": [
    {
     "data": {
      "text/plain": [
       "Text(0.5, 1.0, 'Comparision of Models based on  their ACCURACY while using SMOTE')"
      ]
     },
     "execution_count": 63,
     "metadata": {},
     "output_type": "execute_result"
    },
    {
     "data": {
      "image/png": "[encoded data removed]",
      "text/plain": [
       "<Figure size 432x288 with 1 Axes>"
      ]
     },
     "metadata": {
      "needs_background": "light"
     },
     "output_type": "display_data"
    }
   ],
   "source": [
    "plt.bar(['AdaBoost','RF','LR','DT','KNN','SVM'],[accuracy_bada,accuracy_brf,accuracy_blr,accuracy_bdsc,accuracy_bknn,accuracy_bsvm],color=['red','green','purple','orange','yellow','grey'])\n",
    "plt.plot([accuracy_bada,accuracy_brf,accuracy_blr,accuracy_bdsc,accuracy_bknn,accuracy_bsvm],color='black')\n",
    "plt.title('Comparision of Models based on  their ACCURACY while using SMOTE')"
   ]
  },
  {
   "cell_type": "markdown",
   "id": "d15b3a38",
   "metadata": {},
   "source": [
    "### Maximum Accuracy while using Using SMOTE"
   ]
  },
  {
   "cell_type": "code",
   "execution_count": 64,
   "id": "7fc6e722",
   "metadata": {},
   "outputs": [
    {
     "name": "stdout",
     "output_type": "stream",
     "text": [
      "0.8228346456692913\n"
     ]
    }
   ],
   "source": [
    "print(max(accuracy_bada,accuracy_brf,accuracy_blr,accuracy_bdsc,accuracy_bknn,accuracy_bsvm))"
   ]
  },
  {
   "cell_type": "markdown",
   "id": "54d3ec1f",
   "metadata": {},
   "source": [
    "# Comparison of accuracies of different models while using them without SMOTE and with SMOTE "
   ]
  },
  {
   "cell_type": "code",
   "execution_count": 65,
   "id": "fc390f6c",
   "metadata": {},
   "outputs": [
    {
     "data": {
      "text/plain": [
       "Text(0.5, 1.0, 'Comparision of AdaBoost Models based on  their ACCURACY\\n\\n\\n')"
      ]
     },
     "execution_count": 65,
     "metadata": {},
     "output_type": "execute_result"
    },
    {
     "data": {
      "image/png": "[encoded data removed]",
      "text/plain": [
       "<Figure size 432x288 with 1 Axes>"
      ]
     },
     "metadata": {
      "needs_background": "light"
     },
     "output_type": "display_data"
    }
   ],
   "source": [
    "plt.bar(['AdaBoost With SMOTE','AdaBoost Without SMOTE'],[accuracy_ada,accuracy_bada],color=['red','green'])\n",
    "plt.plot([accuracy_ada,accuracy_bada],color='black')\n",
    "plt.title('Comparision of AdaBoost Models based on  their ACCURACY\\n\\n\\n')"
   ]
  },
  {
   "cell_type": "code",
   "execution_count": 66,
   "id": "9eccde94",
   "metadata": {},
   "outputs": [
    {
     "data": {
      "text/plain": [
       "Text(0.5, 1.0, 'Comparision of Random Forest Models based on  their ACCURACY\\n\\n\\n')"
      ]
     },
     "execution_count": 66,
     "metadata": {},
     "output_type": "execute_result"
    },
    {
     "data": {
      "image/png": "[encoded data removed]",
      "text/plain": [
       "<Figure size 432x288 with 1 Axes>"
      ]
     },
     "metadata": {
      "needs_background": "light"
     },
     "output_type": "display_data"
    }
   ],
   "source": [
    "plt.bar(['RF SMOTE','RF Without SMOTE'],[accuracy_rf,accuracy_brf],color=['grey','yellow'])\n",
    "plt.plot([accuracy_rf,accuracy_brf],color='black')\n",
    "plt.title('Comparision of Random Forest Models based on  their ACCURACY\\n\\n\\n')"
   ]
  },
  {
   "cell_type": "code",
   "execution_count": 67,
   "id": "6f578abb",
   "metadata": {},
   "outputs": [
    {
     "data": {
      "text/plain": [
       "Text(0.5, 1.0, 'Comparision of Logistic Regression Models based on  their ACCURACY\\n\\n\\n')"
      ]
     },
     "execution_count": 67,
     "metadata": {},
     "output_type": "execute_result"
    },
    {
     "data": {
      "image/png": "[encoded data removed]",
      "text/plain": [
       "<Figure size 432x288 with 1 Axes>"
      ]
     },
     "metadata": {
      "needs_background": "light"
     },
     "output_type": "display_data"
    }
   ],
   "source": [
    "plt.bar(['LR With SMOTE','LR Without SMOTE'],[accuracy_lr,accuracy_blr],color=['orange','blue'])\n",
    "plt.plot([accuracy_lr,accuracy_blr],color='black')\n",
    "plt.title('Comparision of Logistic Regression Models based on  their ACCURACY\\n\\n\\n')"
   ]
  },
  {
   "cell_type": "code",
   "execution_count": 68,
   "id": "ad3f2ffe",
   "metadata": {},
   "outputs": [
    {
     "data": {
      "text/plain": [
       "Text(0.5, 1.0, 'Comparision of KNN Models based on  their ACCURACY\\n\\n\\n')"
      ]
     },
     "execution_count": 68,
     "metadata": {},
     "output_type": "execute_result"
    },
    {
     "data": {
      "image/png": "[encoded data removed]",
      "text/plain": [
       "<Figure size 432x288 with 1 Axes>"
      ]
     },
     "metadata": {
      "needs_background": "light"
     },
     "output_type": "display_data"
    }
   ],
   "source": [
    "plt.bar(['KNN With SMOTE','KNN Without SMOTE'],[accuracy_knn,accuracy_bknn],color=['pink','darkgreen'])\n",
    "plt.plot([accuracy_knn,accuracy_bknn],color='black')\n",
    "plt.title('Comparision of KNN Models based on  their ACCURACY\\n\\n\\n')"
   ]
  },
  {
   "cell_type": "code",
   "execution_count": 69,
   "id": "d04d7282",
   "metadata": {},
   "outputs": [
    {
     "data": {
      "text/plain": [
       "Text(0.5, 1.0, 'Comparision of SVM Models based on  their ACCURACY\\n\\n\\n')"
      ]
     },
     "execution_count": 69,
     "metadata": {},
     "output_type": "execute_result"
    },
    {
     "data": {
      "image/png": "[encoded data removed]",
      "text/plain": [
       "<Figure size 432x288 with 1 Axes>"
      ]
     },
     "metadata": {
      "needs_background": "light"
     },
     "output_type": "display_data"
    }
   ],
   "source": [
    "plt.bar(['SVM With SMOTE','SVM Without SMOTE'],[accuracy_svm,accuracy_bsvm],color=['purple','yellow'])\n",
    "plt.plot([accuracy_svm,accuracy_bsvm],color='black')\n",
    "plt.title('Comparision of SVM Models based on  their ACCURACY\\n\\n\\n')"
   ]
  },
  {
   "cell_type": "code",
   "execution_count": 70,
   "id": "8a6e6d8c",
   "metadata": {},
   "outputs": [
    {
     "data": {
      "text/plain": [
       "Text(0.5, 1.0, 'Comparision of Decision Tree Models based on  their ACCURACY\\n\\n\\n')"
      ]
     },
     "execution_count": 70,
     "metadata": {},
     "output_type": "execute_result"
    },
    {
     "data": {
      "image/png": "[encoded data removed]",
      "text/plain": [
       "<Figure size 432x288 with 1 Axes>"
      ]
     },
     "metadata": {
      "needs_background": "light"
     },
     "output_type": "display_data"
    }
   ],
   "source": [
    "plt.bar(['DCT With SMOTE','DCT Without SMOTE'],[accuracy_dsc,accuracy_bdsc],color=['red','grey'])\n",
    "plt.plot([accuracy_dsc,accuracy_bdsc],color='black')\n",
    "plt.title('Comparision of Decision Tree Models based on  their ACCURACY\\n\\n\\n')"
   ]
  }
 ],
 "metadata": {
  "kernelspec": {
   "display_name": "Python 3",
   "language": "python",
   "name": "python3"
  },
  "language_info": {
   "codemirror_mode": {
    "name": "ipython",
    "version": 3
   },
   "file_extension": ".py",
   "mimetype": "text/x-python",
   "name": "python",
   "nbconvert_exporter": "python",
   "pygments_lexer": "ipython3",
   "version": "3.8.8"
  }
 },
 "nbformat": 4,
 "nbformat_minor": 5
}
